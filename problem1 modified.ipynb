{
 "cells": [
  {
   "cell_type": "code",
   "execution_count": 1,
   "id": "628c6dd0",
   "metadata": {},
   "outputs": [
    {
     "name": "stdout",
     "output_type": "stream",
     "text": [
      "type length of perpendicular(and press return):3\n"
     ]
    }
   ],
   "source": [
    "num_1=int(input(\"type length of perpendicular(and press return):\"))"
   ]
  },
  {
   "cell_type": "code",
   "execution_count": 2,
   "id": "c74db707",
   "metadata": {},
   "outputs": [
    {
     "name": "stdout",
     "output_type": "stream",
     "text": [
      "type length of base and press return:4\n"
     ]
    }
   ],
   "source": [
    "num_2=int(input(\"type length of base and press return:\"))"
   ]
  },
  {
   "cell_type": "code",
   "execution_count": 3,
   "id": "523f0a39",
   "metadata": {},
   "outputs": [
    {
     "name": "stdout",
     "output_type": "stream",
     "text": [
      "type length of hypoteneuse and press return:5\n"
     ]
    }
   ],
   "source": [
    "num_3=int(input(\"type length of hypoteneuse and press return:\"))"
   ]
  },
  {
   "cell_type": "code",
   "execution_count": 4,
   "id": "70165b71",
   "metadata": {},
   "outputs": [],
   "source": [
    "calculated_hyp_square=(num_1**2)+(num_2**2)"
   ]
  },
  {
   "cell_type": "code",
   "execution_count": 5,
   "id": "7c2a6948",
   "metadata": {},
   "outputs": [
    {
     "name": "stdout",
     "output_type": "stream",
     "text": [
      "answer: 25\n"
     ]
    }
   ],
   "source": [
    "print(\"answer:\",calculated_hyp_square)"
   ]
  },
  {
   "cell_type": "code",
   "execution_count": 6,
   "id": "54fe8d0f",
   "metadata": {},
   "outputs": [],
   "source": [
    "c=num_3**2"
   ]
  },
  {
   "cell_type": "code",
   "execution_count": 7,
   "id": "ea9564d0",
   "metadata": {},
   "outputs": [
    {
     "name": "stdout",
     "output_type": "stream",
     "text": [
      "answer2: 25\n"
     ]
    }
   ],
   "source": [
    "print(\"answer2:\",c)"
   ]
  },
  {
   "cell_type": "code",
   "execution_count": 8,
   "id": "da7af3a2",
   "metadata": {},
   "outputs": [
    {
     "name": "stdout",
     "output_type": "stream",
     "text": [
      "Its a Pythogram Tripple\n"
     ]
    }
   ],
   "source": [
    "if calculated_hyp_square==c:\n",
    " print(\"Its a Pythogram Tripple\")\n",
    "else:\n",
    " print(\"It is not a Pythogram Tripple\")"
   ]
  },
  {
   "cell_type": "code",
   "execution_count": null,
   "id": "a37e3de0",
   "metadata": {},
   "outputs": [],
   "source": []
  }
 ],
 "metadata": {
  "kernelspec": {
   "display_name": "Python 3 (ipykernel)",
   "language": "python",
   "name": "python3"
  },
  "language_info": {
   "codemirror_mode": {
    "name": "ipython",
    "version": 3
   },
   "file_extension": ".py",
   "mimetype": "text/x-python",
   "name": "python",
   "nbconvert_exporter": "python",
   "pygments_lexer": "ipython3",
   "version": "3.10.9"
  }
 },
 "nbformat": 4,
 "nbformat_minor": 5
}
