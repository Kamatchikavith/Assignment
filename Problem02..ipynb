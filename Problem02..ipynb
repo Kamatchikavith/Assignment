{
 "cells": [
  {
   "cell_type": "code",
   "execution_count": 2,
   "id": "985bcb8e",
   "metadata": {},
   "outputs": [
    {
     "name": "stdout",
     "output_type": "stream",
     "text": [
      "enter a number:3\n"
     ]
    }
   ],
   "source": [
    "num=int(input(\"enter a number:\"))"
   ]
  },
  {
   "cell_type": "code",
   "execution_count": 3,
   "id": "cb481174",
   "metadata": {},
   "outputs": [],
   "source": [
    "cube=num**3"
   ]
  },
  {
   "cell_type": "code",
   "execution_count": 4,
   "id": "e322f41e",
   "metadata": {},
   "outputs": [
    {
     "name": "stdout",
     "output_type": "stream",
     "text": [
      "cube is 27\n"
     ]
    }
   ],
   "source": [
    "print(\"cube is\",cube)"
   ]
  },
  {
   "cell_type": "code",
   "execution_count": null,
   "id": "acf56b7c",
   "metadata": {},
   "outputs": [],
   "source": []
  }
 ],
 "metadata": {
  "kernelspec": {
   "display_name": "Python 3 (ipykernel)",
   "language": "python",
   "name": "python3"
  },
  "language_info": {
   "codemirror_mode": {
    "name": "ipython",
    "version": 3
   },
   "file_extension": ".py",
   "mimetype": "text/x-python",
   "name": "python",
   "nbconvert_exporter": "python",
   "pygments_lexer": "ipython3",
   "version": "3.10.9"
  }
 },
 "nbformat": 4,
 "nbformat_minor": 5
}
