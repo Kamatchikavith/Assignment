{
 "cells": [
  {
   "cell_type": "code",
   "execution_count": 1,
   "id": "185a35c1",
   "metadata": {},
   "outputs": [
    {
     "name": "stdout",
     "output_type": "stream",
     "text": [
      "type length of perpendicular(and press return):3\n"
     ]
    }
   ],
   "source": [
    "num_1=int(input(\"type length of perpendicular(and press return):\"))"
   ]
  },
  {
   "cell_type": "code",
   "execution_count": 2,
   "id": "ead6379c",
   "metadata": {},
   "outputs": [
    {
     "name": "stdout",
     "output_type": "stream",
     "text": [
      "type length of base and press return:4\n"
     ]
    }
   ],
   "source": [
    "num_2=int(input(\"type length of base and press return:\"))"
   ]
  },
  {
   "cell_type": "code",
   "execution_count": 3,
   "id": "76d40174",
   "metadata": {},
   "outputs": [
    {
     "name": "stdout",
     "output_type": "stream",
     "text": [
      "type length of hypotneuse and press return:7\n"
     ]
    }
   ],
   "source": [
    "num_3=int(input(\"type length of hypotneuse and press return:\"))"
   ]
  },
  {
   "cell_type": "code",
   "execution_count": 7,
   "id": "08eb7fa6",
   "metadata": {},
   "outputs": [],
   "source": [
    "calculated_hyp_square=(num_1)*2 + (num_2)*2"
   ]
  },
  {
   "cell_type": "code",
   "execution_count": 8,
   "id": "851536f9",
   "metadata": {},
   "outputs": [
    {
     "name": "stdout",
     "output_type": "stream",
     "text": [
      "answer 14\n"
     ]
    }
   ],
   "source": [
    "print(\"answer\",calculated_hyp_square)"
   ]
  },
  {
   "cell_type": "code",
   "execution_count": 9,
   "id": "fb58ce81",
   "metadata": {},
   "outputs": [],
   "source": [
    "c=num_3*2"
   ]
  },
  {
   "cell_type": "code",
   "execution_count": 10,
   "id": "c8557eac",
   "metadata": {},
   "outputs": [
    {
     "name": "stdout",
     "output_type": "stream",
     "text": [
      "answer2: 14\n"
     ]
    }
   ],
   "source": [
    "print(\"answer2:\",c)"
   ]
  },
  {
   "cell_type": "code",
   "execution_count": 12,
   "id": "1b475e12",
   "metadata": {},
   "outputs": [
    {
     "name": "stdout",
     "output_type": "stream",
     "text": [
      "its pythogram tripple\n"
     ]
    }
   ],
   "source": [
    "if calculated_hyp_square==c:\n",
    "    print(\"its pythogram tripple\")\n",
    "else:\n",
    "    print(\"it is not a pythogram tripple\")"
   ]
  },
  {
   "cell_type": "code",
   "execution_count": null,
   "id": "741054bb",
   "metadata": {},
   "outputs": [],
   "source": []
  }
 ],
 "metadata": {
  "kernelspec": {
   "display_name": "Python 3 (ipykernel)",
   "language": "python",
   "name": "python3"
  },
  "language_info": {
   "codemirror_mode": {
    "name": "ipython",
    "version": 3
   },
   "file_extension": ".py",
   "mimetype": "text/x-python",
   "name": "python",
   "nbconvert_exporter": "python",
   "pygments_lexer": "ipython3",
   "version": "3.10.9"
  }
 },
 "nbformat": 4,
 "nbformat_minor": 5
}
